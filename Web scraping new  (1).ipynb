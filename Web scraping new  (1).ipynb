{
 "cells": [
  {
   "cell_type": "code",
   "execution_count": null,
   "id": "a2e24b58-bf37-4080-8a16-2734f39dd26d",
   "metadata": {},
   "outputs": [],
   "source": [
    "pip uninstall pandas numpy"
   ]
  },
  {
   "cell_type": "code",
   "execution_count": 2,
   "id": "bfe58058-d60d-4c6a-a326-6135844e4abc",
   "metadata": {},
   "outputs": [],
   "source": [
    "from bs4 import BeautifulSoup\n",
    "import requests"
   ]
  },
  {
   "cell_type": "code",
   "execution_count": 3,
   "id": "87911417-299e-4119-a80a-03928691bf16",
   "metadata": {},
   "outputs": [],
   "source": [
    "url = \"https://www.politifact.com/factchecks/list/\"\n",
    "data = requests.get(url).text\n",
    "soup = BeautifulSoup(data,\"html.parser\")"
   ]
  },
  {
   "cell_type": "code",
   "execution_count": 4,
   "id": "d29d0268-32fd-4d0d-bd96-58fa35ceb4da",
   "metadata": {},
   "outputs": [
    {
     "name": "stdout",
     "output_type": "stream",
     "text": [
      "Donald Trump\n",
      "                  \n",
      "\n",
      "                    stated on July 26, 2025 in a Truth Social post:\n"
     ]
    }
   ],
   "source": [
    "a = soup.find(\"div\",class_=\"m-statement__meta\")\n",
    "print(a.text.strip())"
   ]
  },
  {
   "cell_type": "code",
   "execution_count": 22,
   "id": "1efedd7b-1242-4d90-8e1f-21525e5f9786",
   "metadata": {},
   "outputs": [],
   "source": [
    "b = soup.find_all(\"div\",class_=\"m-statement__meta\")"
   ]
  },
  {
   "cell_type": "code",
   "execution_count": 24,
   "id": "7e0eab23-9839-40e5-9b01-ede97aba9b9f",
   "metadata": {},
   "outputs": [
    {
     "name": "stdout",
     "output_type": "stream",
     "text": [
      "Donald Trump\n",
      "stated on July 26, 2025 in a Truth Social post:\n"
     ]
    }
   ],
   "source": [
    "x=soup.find(\"div\",class_=\"m-statement__meta\")\n",
    "name=x.find(\"a\",class_=\"m-statement__name\")\n",
    "print(name.text.strip())\n",
    "st = x.find(\"div\",class_=\"m-statement__desc\").text.strip()\n",
    "print(st)"
   ]
  },
  {
   "cell_type": "code",
   "execution_count": 26,
   "id": "efd0ab9c-e254-440c-a353-cd662c2fab69",
   "metadata": {},
   "outputs": [],
   "source": [
    "x = soup.find_all(\"div\",class_=\"m-statement__meta\")\n",
    "name = []\n",
    "statment = []\n",
    "for i in x:\n",
    "    n=i.find(\"a\",class_=\"m-statement__name\").text.strip()\n",
    "    name.append(n)\n",
    "    st=i.find(\"div\",class_=\"m-statement__desc\").text.strip()\n",
    "    statment.append(st)"
   ]
  },
  {
   "cell_type": "code",
   "execution_count": 28,
   "id": "d17a0575-3192-46b6-9d38-167571f94a60",
   "metadata": {},
   "outputs": [
    {
     "data": {
      "text/plain": [
       "['Donald Trump',\n",
       " 'Markwayne Mullin',\n",
       " 'Social Media',\n",
       " 'Ritchie Torres',\n",
       " 'U.S. Trade Representative',\n",
       " 'Gavin Newsom',\n",
       " 'Howard Lutnick',\n",
       " 'Donald Trump',\n",
       " 'TikTok posts',\n",
       " 'Lori Chavez-DeRemer',\n",
       " 'Gavin Newsom',\n",
       " 'Donald Trump',\n",
       " 'TikTok posts',\n",
       " 'TikTok posts',\n",
       " 'X posts',\n",
       " 'Ron DeSantis',\n",
       " 'Kevin Hassett',\n",
       " 'Jon Favreau',\n",
       " 'X posts',\n",
       " 'Donald Trump',\n",
       " 'Scott Jennings',\n",
       " 'Social Media',\n",
       " 'Hakeem Jeffries',\n",
       " 'Social Media',\n",
       " 'TikTok posts',\n",
       " 'TikTok posts',\n",
       " 'TikTok posts',\n",
       " 'TikTok posts',\n",
       " 'TikTok posts',\n",
       " 'X posts']"
      ]
     },
     "execution_count": 28,
     "metadata": {},
     "output_type": "execute_result"
    }
   ],
   "source": [
    "name\n"
   ]
  },
  {
   "cell_type": "code",
   "execution_count": 30,
   "id": "5c587957-e3d4-4e7b-8d2a-5f24229bbada",
   "metadata": {},
   "outputs": [
    {
     "data": {
      "text/plain": [
       "['stated on July 26, 2025 in a Truth Social post:',\n",
       " 'stated on July 27, 2025 in an interview on CNN\\'s \"State of the Union\":',\n",
       " 'stated on July 24, 2025 in social media posts:',\n",
       " 'stated on July 20, 2025 in an interview on CNN\\'s \"State of the Union\":',\n",
       " 'stated on July 20, 2025 in a social media post:',\n",
       " 'stated on July 18, 2025 in an X post:',\n",
       " 'stated on July 20, 2025 in an interview with CBS\\' \"Face the Nation\":',\n",
       " 'stated on July 22, 2025 in a press conference:',\n",
       " 'stated on July 19, 2025 in a post on TikTok:',\n",
       " 'stated on July 17, 2025 in a post on X:',\n",
       " 'stated on July 14, 2025 in a podcast interview:',\n",
       " 'stated on July 15, 2025 in comments to reporters:',\n",
       " 'stated on July 12, 2025 in una publicación en TikTok:',\n",
       " 'stated on June 30, 2025 in a TikTok post:',\n",
       " 'stated on July 12, 2025 in an X post:',\n",
       " 'stated on June 27, 2025 in a press briefing:',\n",
       " 'stated on July 6, 2025 in an interview with CBS News\\' \"Face the Nation\":',\n",
       " 'stated on July 8, 2025 in Pod Save America:',\n",
       " 'stated on July 8, 2025 in an X post:',\n",
       " 'stated on July 8, 2025 in a Cabinet meeting:',\n",
       " 'stated on July 1, 2025 in an episode of CNN NewsNight with Abby Phillip:',\n",
       " 'stated on July 6, 2025 in a TikTok video:',\n",
       " 'stated on July 2, 2025 in a House floor speech:',\n",
       " 'stated on July 5, 2025 in posts on social media:',\n",
       " 'stated on July 6, 2025 in una publicación en TikTok:',\n",
       " 'stated on June 20, 2025 in una publicación en TikTok:',\n",
       " 'stated on June 24, 2025 in una publicación en TikTok:',\n",
       " 'stated on June 28, 2025 in a TikTok post:',\n",
       " 'stated on June 24, 2025 in a TikTok post:',\n",
       " 'stated on June 30, 2025 in X posts:']"
      ]
     },
     "execution_count": 30,
     "metadata": {},
     "output_type": "execute_result"
    }
   ],
   "source": [
    "statment"
   ]
  },
  {
   "cell_type": "code",
   "execution_count": 40,
   "id": "77dc0c1f-9553-4f55-a3dd-828c4c5d26a4",
   "metadata": {},
   "outputs": [],
   "source": [
    "date=[]\n",
    "for i in statment:\n",
    "    x=i.split(\"in\")[0]\n",
    "    y=x.split(\"stated on\")\n",
    "    date.append(y[1])\n",
    "    "
   ]
  },
  {
   "cell_type": "code",
   "execution_count": 42,
   "id": "3cf3e735-0539-4292-a549-079550c1640d",
   "metadata": {},
   "outputs": [],
   "source": [
    "place=[]\n",
    "for i in statment:\n",
    "    x=i.split(\"in\")[1]\n",
    "    place.append(x)"
   ]
  },
  {
   "cell_type": "code",
   "execution_count": 44,
   "id": "1dc5a6de-c859-4404-9ece-d92d194ab6e6",
   "metadata": {},
   "outputs": [
    {
     "data": {
      "text/plain": [
       "{'name': ['Donald Trump',\n",
       "  'Markwayne Mullin',\n",
       "  'Social Media',\n",
       "  'Ritchie Torres',\n",
       "  'U.S. Trade Representative',\n",
       "  'Gavin Newsom',\n",
       "  'Howard Lutnick',\n",
       "  'Donald Trump',\n",
       "  'TikTok posts',\n",
       "  'Lori Chavez-DeRemer',\n",
       "  'Gavin Newsom',\n",
       "  'Donald Trump',\n",
       "  'TikTok posts',\n",
       "  'TikTok posts',\n",
       "  'X posts',\n",
       "  'Ron DeSantis',\n",
       "  'Kevin Hassett',\n",
       "  'Jon Favreau',\n",
       "  'X posts',\n",
       "  'Donald Trump',\n",
       "  'Scott Jennings',\n",
       "  'Social Media',\n",
       "  'Hakeem Jeffries',\n",
       "  'Social Media',\n",
       "  'TikTok posts',\n",
       "  'TikTok posts',\n",
       "  'TikTok posts',\n",
       "  'TikTok posts',\n",
       "  'TikTok posts',\n",
       "  'X posts'],\n",
       " 'Statment': ['stated on July 26, 2025 in a Truth Social post:',\n",
       "  'stated on July 27, 2025 in an interview on CNN\\'s \"State of the Union\":',\n",
       "  'stated on July 24, 2025 in social media posts:',\n",
       "  'stated on July 20, 2025 in an interview on CNN\\'s \"State of the Union\":',\n",
       "  'stated on July 20, 2025 in a social media post:',\n",
       "  'stated on July 18, 2025 in an X post:',\n",
       "  'stated on July 20, 2025 in an interview with CBS\\' \"Face the Nation\":',\n",
       "  'stated on July 22, 2025 in a press conference:',\n",
       "  'stated on July 19, 2025 in a post on TikTok:',\n",
       "  'stated on July 17, 2025 in a post on X:',\n",
       "  'stated on July 14, 2025 in a podcast interview:',\n",
       "  'stated on July 15, 2025 in comments to reporters:',\n",
       "  'stated on July 12, 2025 in una publicación en TikTok:',\n",
       "  'stated on June 30, 2025 in a TikTok post:',\n",
       "  'stated on July 12, 2025 in an X post:',\n",
       "  'stated on June 27, 2025 in a press briefing:',\n",
       "  'stated on July 6, 2025 in an interview with CBS News\\' \"Face the Nation\":',\n",
       "  'stated on July 8, 2025 in Pod Save America:',\n",
       "  'stated on July 8, 2025 in an X post:',\n",
       "  'stated on July 8, 2025 in a Cabinet meeting:',\n",
       "  'stated on July 1, 2025 in an episode of CNN NewsNight with Abby Phillip:',\n",
       "  'stated on July 6, 2025 in a TikTok video:',\n",
       "  'stated on July 2, 2025 in a House floor speech:',\n",
       "  'stated on July 5, 2025 in posts on social media:',\n",
       "  'stated on July 6, 2025 in una publicación en TikTok:',\n",
       "  'stated on June 20, 2025 in una publicación en TikTok:',\n",
       "  'stated on June 24, 2025 in una publicación en TikTok:',\n",
       "  'stated on June 28, 2025 in a TikTok post:',\n",
       "  'stated on June 24, 2025 in a TikTok post:',\n",
       "  'stated on June 30, 2025 in X posts:'],\n",
       " 'Date': [' July 26, 2025 ',\n",
       "  ' July 27, 2025 ',\n",
       "  ' July 24, 2025 ',\n",
       "  ' July 20, 2025 ',\n",
       "  ' July 20, 2025 ',\n",
       "  ' July 18, 2025 ',\n",
       "  ' July 20, 2025 ',\n",
       "  ' July 22, 2025 ',\n",
       "  ' July 19, 2025 ',\n",
       "  ' July 17, 2025 ',\n",
       "  ' July 14, 2025 ',\n",
       "  ' July 15, 2025 ',\n",
       "  ' July 12, 2025 ',\n",
       "  ' June 30, 2025 ',\n",
       "  ' July 12, 2025 ',\n",
       "  ' June 27, 2025 ',\n",
       "  ' July 6, 2025 ',\n",
       "  ' July 8, 2025 ',\n",
       "  ' July 8, 2025 ',\n",
       "  ' July 8, 2025 ',\n",
       "  ' July 1, 2025 ',\n",
       "  ' July 6, 2025 ',\n",
       "  ' July 2, 2025 ',\n",
       "  ' July 5, 2025 ',\n",
       "  ' July 6, 2025 ',\n",
       "  ' June 20, 2025 ',\n",
       "  ' June 24, 2025 ',\n",
       "  ' June 28, 2025 ',\n",
       "  ' June 24, 2025 ',\n",
       "  ' June 30, 2025 '],\n",
       " 'place': [' a Truth Social post:',\n",
       "  ' an ',\n",
       "  ' social media posts:',\n",
       "  ' an ',\n",
       "  ' a social media post:',\n",
       "  ' an X post:',\n",
       "  ' an ',\n",
       "  ' a press conference:',\n",
       "  ' a post on TikTok:',\n",
       "  ' a post on X:',\n",
       "  ' a podcast ',\n",
       "  ' comments to reporters:',\n",
       "  ' una publicación en TikTok:',\n",
       "  ' a TikTok post:',\n",
       "  ' an X post:',\n",
       "  ' a press brief',\n",
       "  ' an ',\n",
       "  ' Pod Save America:',\n",
       "  ' an X post:',\n",
       "  ' a Cab',\n",
       "  ' an episode of CNN NewsNight with Abby Phillip:',\n",
       "  ' a TikTok video:',\n",
       "  ' a House floor speech:',\n",
       "  ' posts on social media:',\n",
       "  ' una publicación en TikTok:',\n",
       "  ' una publicación en TikTok:',\n",
       "  ' una publicación en TikTok:',\n",
       "  ' a TikTok post:',\n",
       "  ' a TikTok post:',\n",
       "  ' X posts:']}"
      ]
     },
     "execution_count": 44,
     "metadata": {},
     "output_type": "execute_result"
    }
   ],
   "source": [
    "data = {\"name\":name,\"Statment\":statment,\"Date\":date,\"place\":place}\n",
    "data"
   ]
  },
  {
   "cell_type": "code",
   "execution_count": null,
   "id": "7d5798e9-d395-4f42-9611-3eaa8c844889",
   "metadata": {},
   "outputs": [],
   "source": []
  }
 ],
 "metadata": {
  "kernelspec": {
   "display_name": "Python 3 (ipykernel)",
   "language": "python",
   "name": "python3"
  },
  "language_info": {
   "codemirror_mode": {
    "name": "ipython",
    "version": 3
   },
   "file_extension": ".py",
   "mimetype": "text/x-python",
   "name": "python",
   "nbconvert_exporter": "python",
   "pygments_lexer": "ipython3",
   "version": "3.12.4"
  }
 },
 "nbformat": 4,
 "nbformat_minor": 5
}
